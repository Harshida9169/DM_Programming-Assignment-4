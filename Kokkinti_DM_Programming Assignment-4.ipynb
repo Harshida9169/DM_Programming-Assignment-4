{
  "cells": [
    {
      "cell_type": "code",
      "source": [
        "from google.colab import drive\n",
        "drive.mount('/content/drive')"
      ],
      "metadata": {
        "colab": {
          "base_uri": "https://localhost:8080/"
        },
        "id": "ZPtOQtyOGuQX",
        "outputId": "05251e35-374c-487d-b521-039049e51062"
      },
      "id": "ZPtOQtyOGuQX",
      "execution_count": 4,
      "outputs": [
        {
          "output_type": "stream",
          "name": "stdout",
          "text": [
            "Drive already mounted at /content/drive; to attempt to forcibly remount, call drive.mount(\"/content/drive\", force_remount=True).\n"
          ]
        }
      ]
    },
    {
      "cell_type": "code",
      "execution_count": 5,
      "id": "f61aacf6-9b5d-4e65-a5bf-c9c0d26bdb9a",
      "metadata": {
        "id": "f61aacf6-9b5d-4e65-a5bf-c9c0d26bdb9a"
      },
      "outputs": [],
      "source": [
        "## https://scikit-learn.org/stable/modules/clustering.html\n",
        "\n",
        "import numpy as np\n",
        "import pandas as pd\n",
        "import os\n",
        "from glob import glob\n",
        "from skimage import io,color\n",
        "from skimage import filters\n",
        "from skimage import exposure\n",
        "\n",
        "import warnings\n",
        "warnings.filterwarnings(\"ignore\")\n",
        "\n",
        "\n",
        "\n",
        "images_folder = r'/content/drive/MyDrive/cropped'\n",
        "dirc=os.listdir(images_folder)\n"
      ]
    },
    {
      "cell_type": "code",
      "execution_count": 6,
      "id": "871fdc65-8625-4844-b77d-8768d43e2fe4",
      "metadata": {
        "id": "871fdc65-8625-4844-b77d-8768d43e2fe4"
      },
      "outputs": [],
      "source": [
        "#Image Processing\n",
        "def angle(dx, dy):\n",
        "    return np.mod(np.arctan2(dy, dx), np.pi)\n",
        "\n",
        "X = []\n",
        "Y = []\n",
        "for idx,name in enumerate(dirc):\n",
        "    path=os.path.join(images_folder,name)\n",
        "    for file in os.listdir(path):\n",
        "        img   = io.imread(os.path.join(path,file.strip()))\n",
        "        gry_img=color.rgb2gray(img)\n",
        "        imge = angle(filters.sobel_h(gry_img),filters.sobel_v(gry_img))\n",
        "        hist,_=exposure.histogram(imge, nbins=36)\n",
        "        hist=hist/np.sum(hist)\n",
        "        X.append(hist)\n",
        "        Y.append(idx)\n",
        "X=np.array(X)\n",
        "Y=np.array(Y)"
      ]
    },
    {
      "cell_type": "code",
      "execution_count": 7,
      "id": "0d496380-702b-421a-8a9f-ef91f6d032b8",
      "metadata": {
        "id": "0d496380-702b-421a-8a9f-ef91f6d032b8"
      },
      "outputs": [],
      "source": [
        "from sklearn.decomposition import PCA\n",
        "PCA_model = PCA(2)\n",
        "X= PCA_model.fit_transform(X)"
      ]
    },
    {
      "cell_type": "code",
      "execution_count": 8,
      "id": "1afe30d3-387c-4742-b0e5-614b64196445",
      "metadata": {
        "colab": {
          "base_uri": "https://localhost:8080/"
        },
        "id": "1afe30d3-387c-4742-b0e5-614b64196445",
        "outputId": "2484e8b0-63f9-4f6a-e200-f91b566515e5"
      },
      "outputs": [
        {
          "output_type": "stream",
          "name": "stdout",
          "text": [
            "random:F: 0.28840832681999923 :S:0.3783284217005333\n",
            "\n",
            "k-means++:F: 0.28840832681999923 :S:0.3783284217005333\n",
            "\n",
            "single:F: 0.49780673783874707 :S:0.6890183012316408\n",
            "\n",
            "complete:F: 0.3853636857095279 :S:0.3866889309287012\n",
            "\n",
            "average:F: 0.4859862073148134 :S:0.6791331546361979\n",
            "\n",
            "ward:F: 0.2841054987140208 :S:0.33602009982182524\n",
            "\n",
            "bisectingkmeans:F: 0.28254937401293506 :S:0.29517292653955085\n",
            "\n",
            "SpectralClustering:F: 0.3393801542504846 :S:0.0025110900404269935\n",
            "\n",
            "DBSCAN:F: 0.4985860578905427 :S:0.7966554193322181\n",
            "\n"
          ]
        }
      ],
      "source": [
        "from sklearn.cluster import KMeans,BisectingKMeans,SpectralClustering,AgglomerativeClustering,DBSCAN\n",
        "from sklearn.metrics import silhouette_score,fowlkes_mallows_score\n",
        "for k in ['random','k-means++']:\n",
        "    km=KMeans(n_clusters=4, random_state=42, init=k).fit(X).labels_\n",
        "    print(k+ ':F: ' +str(fowlkes_mallows_score(Y,km))+ \" :S:\"+str(silhouette_score(X,km))+'\\n')\n",
        "for k in ['single','complete','average','ward']:\n",
        "    agg=AgglomerativeClustering(n_clusters=4,linkage=k).fit(X).labels_\n",
        "    print(k+ ':F: ' +str(fowlkes_mallows_score(Y,agg))+ \" :S:\"+str(silhouette_score(X,agg))+'\\n')\n",
        "bisecting=BisectingKMeans(n_clusters=4, random_state=42, init='random').fit(X).labels_\n",
        "print('bisectingkmeans'+ ':F: ' +str(fowlkes_mallows_score(Y,bisecting))+ \" :S:\"+str(silhouette_score(X,bisecting))+'\\n')\n",
        "spec=SpectralClustering(n_clusters=4, random_state=42).fit(X).labels_\n",
        "print('SpectralClustering'+ ':F: ' +str(fowlkes_mallows_score(Y,spec))+ \" :S:\"+str(silhouette_score(X,spec))+'\\n')\n",
        "dbscan = DBSCAN(eps=0.03, min_samples=5).fit(X).labels_\n",
        "print('DBSCAN'+ ':F: ' +str(fowlkes_mallows_score(Y,dbscan))+ \" :S:\"+str(silhouette_score(X,dbscan))+'\\n')"
      ]
    },
    {
      "cell_type": "markdown",
      "id": "483b5d95-a59a-4749-b197-f73d658d48b4",
      "metadata": {
        "id": "483b5d95-a59a-4749-b197-f73d658d48b4"
      },
      "source": [
        "## to get 4 clusters eps= 0.03 and min-samples = 5 are used in dbscan"
      ]
    },
    {
      "cell_type": "markdown",
      "id": "3f8542ee-0ebb-4936-a7a1-5e0cc03069a0",
      "metadata": {
        "id": "3f8542ee-0ebb-4936-a7a1-5e0cc03069a0"
      },
      "source": [
        "## Ranking models from best to worst as per fowlkes score :\n",
        "#### single,dbscan,average,complete,ward,k-means++,bisectingkmeans,spectralclustering,random kmeans."
      ]
    },
    {
      "cell_type": "markdown",
      "id": "66fca251-fe7c-45d3-8025-ea43ab5c4936",
      "metadata": {
        "id": "66fca251-fe7c-45d3-8025-ea43ab5c4936"
      },
      "source": [
        "## Ranking models from best to worst as per silhouette score :\n",
        "#### single,dbscan,average,complete,ward,k-means++,bisectingkmeans,spectralclustering,random kmeans."
      ]
    },
    {
      "cell_type": "code",
      "execution_count": 8,
      "id": "09370dc5-a06e-4b74-be9f-51d2abf54206",
      "metadata": {
        "id": "09370dc5-a06e-4b74-be9f-51d2abf54206"
      },
      "outputs": [],
      "source": []
    }
  ],
  "metadata": {
    "kernelspec": {
      "display_name": "Python 3 (ipykernel)",
      "language": "python",
      "name": "python3"
    },
    "language_info": {
      "codemirror_mode": {
        "name": "ipython",
        "version": 3
      },
      "file_extension": ".py",
      "mimetype": "text/x-python",
      "name": "python",
      "nbconvert_exporter": "python",
      "pygments_lexer": "ipython3",
      "version": "3.11.0"
    },
    "colab": {
      "provenance": []
    }
  },
  "nbformat": 4,
  "nbformat_minor": 5
}